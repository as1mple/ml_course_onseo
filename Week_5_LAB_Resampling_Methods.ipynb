{
 "nbformat": 4,
 "nbformat_minor": 0,
 "metadata": {
  "kernel_info": {
   "name": "python3"
  },
  "kernelspec": {
   "display_name": "Python 3",
   "language": "python",
   "name": "python3"
  },
  "language_info": {
   "codemirror_mode": {
    "name": "ipython",
    "version": 3
   },
   "file_extension": ".py",
   "mimetype": "text/x-python",
   "name": "python",
   "nbconvert_exporter": "python",
   "pygments_lexer": "ipython3",
   "version": "3.6.3"
  },
  "nteract": {
   "version": "0.14.3"
  },
  "colab": {
   "name": "PΣTR - Week 5 - LAB - Resampling Methods.ipynb",
   "provenance": [],
   "collapsed_sections": [
    "4ijQXfD2h6eX",
    "k57ldniBh6eX",
    "Qow3VcR-h6eX",
    "FUJcs7Mth6eY"
   ]
  }
 },
 "cells": [
  {
   "cell_type": "markdown",
   "metadata": {
    "id": "izcRrMz0h6eA"
   },
   "source": [
    "# LAB 5. Cross-Validation & Grid Search of Model Parameters\n",
    "\n",
    "In this practical assignment, we will consolidate the understanding of Cross-Validation approach.\n",
    "\n",
    "![](https://upload.wikimedia.org/wikipedia/commons/1/1c/K-fold_cross_validation_EN.jpg)\n",
    "\n",
    "We also learn Stratified K-Fold Cross-Validation and Grid Search of Hyperparameters.\n",
    "\n",
    "We'll use already familiar to you [Titanic Kaggle Challenge](https://www.kaggle.com/c/titanic). Recall, description of the fields ([see in detail](https://www.kaggle.com/c/titanic/data)):\n",
    "+ **survival** -- Survival: 0 = No, 1 = Yes\n",
    "+ **pclass** -- Ticket class: 1 = 1st, 2 = 2nd, 3 = 3rd\n",
    "+ **sex** -- Sex\n",
    "+ **Age** -- Age in years\n",
    "+ **sibsp** -- # of siblings / spouses aboard the Titanic\n",
    "+ **parch** -- # of parents / children aboard the Titanic\n",
    "+ **ticket** -- Ticket number\n",
    "+ **fare** -- Passenger fare\n",
    "+ **cabin** -- Cabin number\n",
    "+ **embarked** -- Port of Embarkation: C = Cherbourg, Q = Queenstown, S = Southampton\n",
    "\n",
    "## Outline\n",
    "Click on the links to jump to a particular section of the assignment.\n",
    "- [1. Loading data](#1)\n",
    "- [2. Exploring data](#2)\n",
    "    - [2.1. Check missing values](#2-1)\n",
    "    - [2.2. Handle missing values and feature engineering](#2-2)\n",
    "    - [2.3. Selecting features](#2-3)\n",
    "- [3. Build a model](#3)\n",
    "- [4. Cross-validation](#4)\n",
    "    - [4.1. K-fold cross-validation](#4-1)\n",
    "    - [4.2. Stratified K-fold cross-validation](#4-2)\n",
    "- [5. Grid search of model parameters using cross-validation](#5)\n",
    "    - [5.1. GridSearchCV](#5-1)\n",
    "    - [5.2. Create a submission file for the Titanic Kaggle Challenge](#5-2)\n",
    "- [6. Other cross-validators](#6)\n",
    "    - [6.1. Repeated K-fold cross-validation](#6-1)\n",
    "    - [6.2. Leave one out cross-validation (LOOCV)](#6-2)\n",
    "    - [6.3. Random permutations cross-validation a.k.a. shuffle & split](#6-3)\n",
    "    - [6.4. Group K-Fold cross-validation](#6-4)\n",
    "- [7. YOUR TURN](#7)\n",
    "    - [7.1. One-set approach (using `train` set only)](#7-1)\n",
    "    - [7.2. One-set approach + GridSearchCV](#7-2)\n",
    "    - [7.3. Two-sets approach (using `train/dev` split)](#7-3)\n",
    "    - [7.4. Three-sets approach (`train/dev/test` split)](#7-4)\n",
    "    - [7.5. Draw your conclusions](#7-5)\n",
    "\n",
    "\n",
    "## References\n",
    "\n",
    "- [Titanic: Machine Learning from Disaster (Kaggle Challenge)](https://www.kaggle.com/c/titanic)\n",
    "- [A Gentle Introduction to k-fold Cross-Validation](https://machinelearningmastery.com/k-fold-cross-validation/)\n",
    "- [Understanding Cross Validation’s purpose](https://medium.com/@mtterribile/understanding-cross-validations-purpose-53490faf6a86)\n",
    "- [Evaluate the Performance of Machine Learning Algorithms in Python using Resampling](https://machinelearningmastery.com/evaluate-performance-machine-learning-algorithms-python-using-resampling/)\n",
    "- [Cross-validation: evaluating estimator performance](https://scikit-learn.org/stable/modules/cross_validation.html)\n",
    "- [sklearn.model_selection.KFold](https://scikit-learn.org/stable/modules/generated/sklearn.model_selection.KFold.html)\n",
    "- [sklearn.model_selection.StratifiedKFold](https://scikit-learn.org/stable/modules/generated/sklearn.model_selection.StratifiedKFold.html#sklearn.model_selection.StratifiedKFold)\n",
    "- [sklearn.model_selection.GridSearchCV](https://scikit-learn.org/stable/modules/generated/sklearn.model_selection.GridSearchCV.html)"
   ]
  },
  {
   "cell_type": "markdown",
   "metadata": {
    "id": "7th4UDv4h6eI"
   },
   "source": [
    "<a name=\"1\"></a>\n",
    "## 1. Loading data"
   ]
  },
  {
   "cell_type": "code",
   "metadata": {
    "colab": {
     "base_uri": "https://localhost:8080/",
     "height": 294
    },
    "id": "J7nNgPOJh6eJ",
    "outputId": "a2782ea6-777a-4c92-b284-207f9ad3735b"
   },
   "source": [
    "# Load useful libraries\n",
    "%matplotlib inline\n",
    "import numpy as np\n",
    "import pandas as pd\n",
    "import matplotlib.pyplot as plt\n",
    "import seaborn as sns\n",
    "\n",
    "# Load data\n",
    "train = pd.read_csv('data/titanic_train_data.csv')\n",
    "test = pd.read_csv('data/titanic_test_data.csv')\n",
    "\n",
    "dataset = [train, test]\n",
    "\n",
    "print(\"Shape of the train dataframe =\", train.shape)\n",
    "print(\"Shape of the test dataframe =\", test.shape)\n",
    "\n",
    "# Display examples of the train\n",
    "train.head()"
   ],
   "execution_count": null,
   "outputs": [
    {
     "output_type": "stream",
     "name": "stdout",
     "text": [
      "Shape of the train dataframe = (891, 12)\n",
      "Shape of the test dataframe = (418, 11)\n"
     ]
    },
    {
     "output_type": "execute_result",
     "data": {
      "text/html": [
       "<div>\n",
       "<style scoped>\n",
       "    .dataframe tbody tr th:only-of-type {\n",
       "        vertical-align: middle;\n",
       "    }\n",
       "\n",
       "    .dataframe tbody tr th {\n",
       "        vertical-align: top;\n",
       "    }\n",
       "\n",
       "    .dataframe thead th {\n",
       "        text-align: right;\n",
       "    }\n",
       "</style>\n",
       "<table border=\"1\" class=\"dataframe\">\n",
       "  <thead>\n",
       "    <tr style=\"text-align: right;\">\n",
       "      <th></th>\n",
       "      <th>PassengerId</th>\n",
       "      <th>Survived</th>\n",
       "      <th>Pclass</th>\n",
       "      <th>Name</th>\n",
       "      <th>Sex</th>\n",
       "      <th>Age</th>\n",
       "      <th>SibSp</th>\n",
       "      <th>Parch</th>\n",
       "      <th>Ticket</th>\n",
       "      <th>Fare</th>\n",
       "      <th>Cabin</th>\n",
       "      <th>Embarked</th>\n",
       "    </tr>\n",
       "  </thead>\n",
       "  <tbody>\n",
       "    <tr>\n",
       "      <th>0</th>\n",
       "      <td>1</td>\n",
       "      <td>0</td>\n",
       "      <td>3</td>\n",
       "      <td>Braund, Mr. Owen Harris</td>\n",
       "      <td>male</td>\n",
       "      <td>22.0</td>\n",
       "      <td>1</td>\n",
       "      <td>0</td>\n",
       "      <td>A/5 21171</td>\n",
       "      <td>7.2500</td>\n",
       "      <td>NaN</td>\n",
       "      <td>S</td>\n",
       "    </tr>\n",
       "    <tr>\n",
       "      <th>1</th>\n",
       "      <td>2</td>\n",
       "      <td>1</td>\n",
       "      <td>1</td>\n",
       "      <td>Cumings, Mrs. John Bradley (Florence Briggs Th...</td>\n",
       "      <td>female</td>\n",
       "      <td>38.0</td>\n",
       "      <td>1</td>\n",
       "      <td>0</td>\n",
       "      <td>PC 17599</td>\n",
       "      <td>71.2833</td>\n",
       "      <td>C85</td>\n",
       "      <td>C</td>\n",
       "    </tr>\n",
       "    <tr>\n",
       "      <th>2</th>\n",
       "      <td>3</td>\n",
       "      <td>1</td>\n",
       "      <td>3</td>\n",
       "      <td>Heikkinen, Miss. Laina</td>\n",
       "      <td>female</td>\n",
       "      <td>26.0</td>\n",
       "      <td>0</td>\n",
       "      <td>0</td>\n",
       "      <td>STON/O2. 3101282</td>\n",
       "      <td>7.9250</td>\n",
       "      <td>NaN</td>\n",
       "      <td>S</td>\n",
       "    </tr>\n",
       "    <tr>\n",
       "      <th>3</th>\n",
       "      <td>4</td>\n",
       "      <td>1</td>\n",
       "      <td>1</td>\n",
       "      <td>Futrelle, Mrs. Jacques Heath (Lily May Peel)</td>\n",
       "      <td>female</td>\n",
       "      <td>35.0</td>\n",
       "      <td>1</td>\n",
       "      <td>0</td>\n",
       "      <td>113803</td>\n",
       "      <td>53.1000</td>\n",
       "      <td>C123</td>\n",
       "      <td>S</td>\n",
       "    </tr>\n",
       "    <tr>\n",
       "      <th>4</th>\n",
       "      <td>5</td>\n",
       "      <td>0</td>\n",
       "      <td>3</td>\n",
       "      <td>Allen, Mr. William Henry</td>\n",
       "      <td>male</td>\n",
       "      <td>35.0</td>\n",
       "      <td>0</td>\n",
       "      <td>0</td>\n",
       "      <td>373450</td>\n",
       "      <td>8.0500</td>\n",
       "      <td>NaN</td>\n",
       "      <td>S</td>\n",
       "    </tr>\n",
       "  </tbody>\n",
       "</table>\n",
       "</div>"
      ],
      "text/plain": [
       "   PassengerId  Survived  Pclass  ...     Fare Cabin  Embarked\n",
       "0            1         0       3  ...   7.2500   NaN         S\n",
       "1            2         1       1  ...  71.2833   C85         C\n",
       "2            3         1       3  ...   7.9250   NaN         S\n",
       "3            4         1       1  ...  53.1000  C123         S\n",
       "4            5         0       3  ...   8.0500   NaN         S\n",
       "\n",
       "[5 rows x 12 columns]"
      ]
     },
     "metadata": {},
     "execution_count": 3
    }
   ]
  },
  {
   "cell_type": "code",
   "metadata": {
    "scrolled": true,
    "id": "MgjDdIC_h6eM",
    "colab": {
     "base_uri": "https://localhost:8080/",
     "height": 205
    },
    "outputId": "3271a8c0-b6b9-4862-b4ee-2d02e3b35c0b"
   },
   "source": [
    "# Display examples of the test\n",
    "test.head()"
   ],
   "execution_count": null,
   "outputs": [
    {
     "output_type": "execute_result",
     "data": {
      "text/html": [
       "<div>\n",
       "<style scoped>\n",
       "    .dataframe tbody tr th:only-of-type {\n",
       "        vertical-align: middle;\n",
       "    }\n",
       "\n",
       "    .dataframe tbody tr th {\n",
       "        vertical-align: top;\n",
       "    }\n",
       "\n",
       "    .dataframe thead th {\n",
       "        text-align: right;\n",
       "    }\n",
       "</style>\n",
       "<table border=\"1\" class=\"dataframe\">\n",
       "  <thead>\n",
       "    <tr style=\"text-align: right;\">\n",
       "      <th></th>\n",
       "      <th>PassengerId</th>\n",
       "      <th>Pclass</th>\n",
       "      <th>Name</th>\n",
       "      <th>Sex</th>\n",
       "      <th>Age</th>\n",
       "      <th>SibSp</th>\n",
       "      <th>Parch</th>\n",
       "      <th>Ticket</th>\n",
       "      <th>Fare</th>\n",
       "      <th>Cabin</th>\n",
       "      <th>Embarked</th>\n",
       "    </tr>\n",
       "  </thead>\n",
       "  <tbody>\n",
       "    <tr>\n",
       "      <th>0</th>\n",
       "      <td>892</td>\n",
       "      <td>3</td>\n",
       "      <td>Kelly, Mr. James</td>\n",
       "      <td>male</td>\n",
       "      <td>34.5</td>\n",
       "      <td>0</td>\n",
       "      <td>0</td>\n",
       "      <td>330911</td>\n",
       "      <td>7.8292</td>\n",
       "      <td>NaN</td>\n",
       "      <td>Q</td>\n",
       "    </tr>\n",
       "    <tr>\n",
       "      <th>1</th>\n",
       "      <td>893</td>\n",
       "      <td>3</td>\n",
       "      <td>Wilkes, Mrs. James (Ellen Needs)</td>\n",
       "      <td>female</td>\n",
       "      <td>47.0</td>\n",
       "      <td>1</td>\n",
       "      <td>0</td>\n",
       "      <td>363272</td>\n",
       "      <td>7.0000</td>\n",
       "      <td>NaN</td>\n",
       "      <td>S</td>\n",
       "    </tr>\n",
       "    <tr>\n",
       "      <th>2</th>\n",
       "      <td>894</td>\n",
       "      <td>2</td>\n",
       "      <td>Myles, Mr. Thomas Francis</td>\n",
       "      <td>male</td>\n",
       "      <td>62.0</td>\n",
       "      <td>0</td>\n",
       "      <td>0</td>\n",
       "      <td>240276</td>\n",
       "      <td>9.6875</td>\n",
       "      <td>NaN</td>\n",
       "      <td>Q</td>\n",
       "    </tr>\n",
       "    <tr>\n",
       "      <th>3</th>\n",
       "      <td>895</td>\n",
       "      <td>3</td>\n",
       "      <td>Wirz, Mr. Albert</td>\n",
       "      <td>male</td>\n",
       "      <td>27.0</td>\n",
       "      <td>0</td>\n",
       "      <td>0</td>\n",
       "      <td>315154</td>\n",
       "      <td>8.6625</td>\n",
       "      <td>NaN</td>\n",
       "      <td>S</td>\n",
       "    </tr>\n",
       "    <tr>\n",
       "      <th>4</th>\n",
       "      <td>896</td>\n",
       "      <td>3</td>\n",
       "      <td>Hirvonen, Mrs. Alexander (Helga E Lindqvist)</td>\n",
       "      <td>female</td>\n",
       "      <td>22.0</td>\n",
       "      <td>1</td>\n",
       "      <td>1</td>\n",
       "      <td>3101298</td>\n",
       "      <td>12.2875</td>\n",
       "      <td>NaN</td>\n",
       "      <td>S</td>\n",
       "    </tr>\n",
       "  </tbody>\n",
       "</table>\n",
       "</div>"
      ],
      "text/plain": [
       "   PassengerId  Pclass  ... Cabin Embarked\n",
       "0          892       3  ...   NaN        Q\n",
       "1          893       3  ...   NaN        S\n",
       "2          894       2  ...   NaN        Q\n",
       "3          895       3  ...   NaN        S\n",
       "4          896       3  ...   NaN        S\n",
       "\n",
       "[5 rows x 11 columns]"
      ]
     },
     "metadata": {},
     "execution_count": 4
    }
   ]
  },
  {
   "cell_type": "markdown",
   "metadata": {
    "id": "8E0creNFh6eN"
   },
   "source": [
    "<a name=\"2\"></a>\n",
    "## 2. Exploring data"
   ]
  },
  {
   "cell_type": "markdown",
   "metadata": {
    "id": "lDmwNrF8h6eO"
   },
   "source": [
    "<a name=\"2-1\"></a>\n",
    "### 2.1. Check missing values"
   ]
  },
  {
   "cell_type": "code",
   "metadata": {
    "id": "dYUiA4dGh6eO",
    "colab": {
     "base_uri": "https://localhost:8080/"
    },
    "outputId": "657806c6-6590-4939-ddd4-cb22aa764cc9"
   },
   "source": [
    "# Check missing values in train data\n",
    "print(\"Missing values in the training set:\")\n",
    "print(train.isnull().sum())\n",
    "print()\n",
    "print(\"Missing values in the test set:\")\n",
    "print(test.isnull().sum())"
   ],
   "execution_count": null,
   "outputs": [
    {
     "output_type": "stream",
     "name": "stdout",
     "text": [
      "Missing values in the training set:\n",
      "PassengerId      0\n",
      "Survived         0\n",
      "Pclass           0\n",
      "Name             0\n",
      "Sex              0\n",
      "Age            177\n",
      "SibSp            0\n",
      "Parch            0\n",
      "Ticket           0\n",
      "Fare             0\n",
      "Cabin          687\n",
      "Embarked         2\n",
      "dtype: int64\n",
      "\n",
      "Missing values in the test set:\n",
      "PassengerId      0\n",
      "Pclass           0\n",
      "Name             0\n",
      "Sex              0\n",
      "Age             86\n",
      "SibSp            0\n",
      "Parch            0\n",
      "Ticket           0\n",
      "Fare             1\n",
      "Cabin          327\n",
      "Embarked         0\n",
      "dtype: int64\n"
     ]
    }
   ]
  },
  {
   "cell_type": "markdown",
   "metadata": {
    "id": "U_sn3xs3h6eP"
   },
   "source": [
    "<a name=\"2-2\"></a>\n",
    "### 2.2. Handle missing values and feature engineering"
   ]
  },
  {
   "cell_type": "code",
   "metadata": {
    "id": "qQNMEuDvh6eQ",
    "colab": {
     "base_uri": "https://localhost:8080/"
    },
    "outputId": "9c5eda5e-f3bc-4e2d-c44a-443cdcb540b9"
   },
   "source": [
    "for data in dataset:\n",
    "    # Fill missing values of Age and Fare with median values\n",
    "    data['Age'] = data['Age'].fillna(value=data['Age'].median())\n",
    "    data['Fare'] = data['Fare'].fillna(value=data['Fare'].median())\n",
    "    data[\"Embarked\"] = data[\"Embarked\"].fillna(value=\"S\")   # because \"S\" is the most common port of embarkation    \n",
    "    \n",
    "    # Replace string values by numbers\n",
    "    data[\"Sex\"] = data[\"Sex\"].map({\"male\": 1, \"female\": 0}).astype(int)    \n",
    "    data[\"Embarked\"] = data[\"Embarked\"].map({\"S\": 1, \"C\": 2, \"Q\": 3}).astype(int)    \n",
    "    \n",
    "    # Create a new feature\n",
    "    data[\"FamilySize\"] = data[\"Parch\"] + data[\"SibSp\"]       \n",
    "\n",
    "    \n",
    "# Check missing Age and Fare values\n",
    "print(\"Check missing values:\")\n",
    "print(\"  Train: Age - {}, Fare - {}\".format(train.Age.isnull().sum(), train.Fare.isnull().sum()))\n",
    "print(\"  Test : Age - {}, Fare - {}\".format(test.Age.isnull().sum(), test.Fare.isnull().sum()))"
   ],
   "execution_count": null,
   "outputs": [
    {
     "output_type": "stream",
     "name": "stdout",
     "text": [
      "Check missing values:\n",
      "  Train: Age - 0, Fare - 0\n",
      "  Test : Age - 0, Fare - 0\n"
     ]
    }
   ]
  },
  {
   "cell_type": "markdown",
   "metadata": {
    "id": "r35yXM8Hh6eQ"
   },
   "source": [
    "<a name=\"2-3\"></a>\n",
    "### 2.3. Selecting features"
   ]
  },
  {
   "cell_type": "code",
   "metadata": {
    "id": "_7eTy-gEh6eR"
   },
   "source": [
    "# Set X and y\n",
    "X = train[[\"Sex\", \"Pclass\", \"FamilySize\", \"Age\", \"Fare\", \"Embarked\"]]\n",
    "y = train[\"Survived\"]"
   ],
   "execution_count": null,
   "outputs": []
  },
  {
   "cell_type": "markdown",
   "metadata": {
    "id": "N2X_vSaGh6eR"
   },
   "source": [
    "<a name=\"3\"></a>\n",
    "## 3. Build a model\n",
    "\n",
    "As a model, let's use [LogisticRegression](https://scikit-learn.org/stable/modules/generated/sklearn.linear_model.LogisticRegression.html) from the `sklearn`."
   ]
  },
  {
   "cell_type": "code",
   "metadata": {
    "id": "-enS7Ln9h6eS"
   },
   "source": [
    "from sklearn.linear_model import LogisticRegression\n",
    "from sklearn.model_selection import train_test_split, cross_val_score\n",
    "from sklearn.metrics import accuracy_score\n",
    "\n",
    "\n",
    "def LogisticRegressionSklearn(X, y, cv, test_size=0.3, C=1):\n",
    "    \"\"\"\n",
    "    Build scikit-learn logistic regression model.\n",
    "\n",
    "    Args:\n",
    "        X (pd.DataFrame): input feature examples, size (n_examples, 1)\n",
    "        y (pd.Series): labels, size (n_examples,)\n",
    "        cv (i.e., int, CV splitter): determines the cross-validation splitting strategy\n",
    "        test_size (float): proportion of the dataset to include in the test split\n",
    "        C (float): inverse of regularization strength\n",
    "    Returns:\n",
    "        model (sklearn.linear_model): sklearn-based model\n",
    "    \"\"\"    \n",
    "\n",
    "    # Split the training data\n",
    "    X_train, X_dev, y_train, y_dev = train_test_split(X, y, test_size=test_size, random_state=42)\n",
    "    \n",
    "    # Create a model\n",
    "    model = LogisticRegression(solver='liblinear', C=C)\n",
    "  \n",
    "    # Obtain cross-validation scores\n",
    "    results = cross_val_score(model, X_train, y_train, cv=cv)\n",
    "    \n",
    "    # Display cross-validation scores\n",
    "    print(\"Cross-validation accuracies:\")\n",
    "    for i, acc in enumerate(results, start=1):\n",
    "        print(f\"{i} fold: {acc:.3f}\")\n",
    "    print(f\"CV mean \\u03BC = {results.mean():.3f} with CV standard deviation \\u03C3 = {results.std():.2f}\")\n",
    "    print()\n",
    "\n",
    "    # Train the model\n",
    "    model.fit(X_train, y_train)\n",
    "    \n",
    "    # Get and display train error        \n",
    "    y_train_pred = model.predict(X_train)\n",
    "    print(\"Train accuracy: {:.3f}\".format(accuracy_score(y_train, y_train_pred)))\n",
    "    print()\n",
    "\n",
    "    # Get and display test error\n",
    "    y_dev_pred = model.predict(X_dev)\n",
    "    print(\"Dev accuracy:  {:.3f}\".format(accuracy_score(y_dev, y_dev_pred)))\n",
    "    \n",
    "    return model"
   ],
   "execution_count": null,
   "outputs": []
  },
  {
   "cell_type": "markdown",
   "metadata": {
    "id": "Lx_voos7h6eS"
   },
   "source": [
    "<a name=\"4\"></a>\n",
    "## 4. Cross-validation"
   ]
  },
  {
   "cell_type": "code",
   "metadata": {
    "id": "L28TScm4h6eT"
   },
   "source": [
    "# Set the number of splits for cross-validation, i.e., K value\n",
    "N_SPLITS = 5"
   ],
   "execution_count": null,
   "outputs": []
  },
  {
   "cell_type": "markdown",
   "metadata": {
    "id": "dDGTCMIih6eT"
   },
   "source": [
    "<a name=\"4-1\"></a>\n",
    "### 4.1. K-fold cross-validation\n",
    " \n",
    "[KFold](https://scikit-learn.org/stable/modules/generated/sklearn.model_selection.KFold.html) cross-validator divides all the samples in `k` groups of samples, called folds. Note that [KFold](https://scikit-learn.org/stable/modules/generated/sklearn.model_selection.KFold.html) is not affected by classes or groups.\n",
    "![](https://scikit-learn.org/stable/_images/sphx_glr_plot_cv_indices_0041.png)"
   ]
  },
  {
   "cell_type": "code",
   "metadata": {
    "id": "wwssz4p2h6eU",
    "colab": {
     "base_uri": "https://localhost:8080/"
    },
    "outputId": "90ece940-b945-41af-b93d-19cf7af2dc46"
   },
   "source": [
    "from sklearn.model_selection import KFold\n",
    "\n",
    "# Set K-fold cross-validation parameters\n",
    "kfold = KFold(n_splits=N_SPLITS, shuffle=True, random_state=42)\n",
    "\n",
    "# Get a model with a K-fold cross-validation\n",
    "model = LogisticRegressionSklearn(X, y, cv=kfold);"
   ],
   "execution_count": null,
   "outputs": [
    {
     "output_type": "stream",
     "name": "stdout",
     "text": [
      "Cross-validation accuracies:\n",
      "1 fold: 0.824\n",
      "2 fold: 0.760\n",
      "3 fold: 0.768\n",
      "4 fold: 0.815\n",
      "5 fold: 0.839\n",
      "CV mean μ = 0.801 with CV standard deviation σ = 0.03\n",
      "\n",
      "Train accuracy: 0.804\n",
      "\n",
      "Dev accuracy:  0.802\n"
     ]
    }
   ]
  },
  {
   "cell_type": "markdown",
   "metadata": {
    "id": "qZYTM6Kzh6eU"
   },
   "source": [
    "<a name=\"4-2\"></a>\n",
    "### 4.2. Stratified K-fold cross-validation\n",
    "\n",
    "[StratifiedKFold](https://scikit-learn.org/stable/modules/generated/sklearn.model_selection.StratifiedKFold.html) cross-validator is a variation of [KFold](https://scikit-learn.org/stable/modules/generated/sklearn.model_selection.KFold.html) that returns stratified folds. The folds are made by **preserving the percentage of samples for each class**.\n",
    "\n",
    "![](https://scikit-learn.org/stable/_images/sphx_glr_plot_cv_indices_0071.png)"
   ]
  },
  {
   "cell_type": "code",
   "metadata": {
    "id": "umu5F3bQh6eU",
    "colab": {
     "base_uri": "https://localhost:8080/"
    },
    "outputId": "45ee857f-7c93-48df-c30e-55c4b42502d5"
   },
   "source": [
    "from sklearn.model_selection import StratifiedKFold\n",
    "\n",
    "# Set Stratified K-fold cross-validation parameters\n",
    "skfold = StratifiedKFold(n_splits=N_SPLITS, shuffle=True, random_state=42)\n",
    "\n",
    "# Get a model with a Stratified K-fold cross-validation\n",
    "LogisticRegressionSklearn(X, y, cv=skfold);"
   ],
   "execution_count": null,
   "outputs": [
    {
     "output_type": "stream",
     "name": "stdout",
     "text": [
      "Cross-validation accuracies:\n",
      "1 fold: 0.784\n",
      "2 fold: 0.864\n",
      "3 fold: 0.808\n",
      "4 fold: 0.798\n",
      "5 fold: 0.726\n",
      "CV mean μ = 0.796 with CV standard deviation σ = 0.04\n",
      "\n",
      "Train accuracy: 0.804\n",
      "\n",
      "Dev accuracy:  0.802\n"
     ]
    }
   ]
  },
  {
   "cell_type": "markdown",
   "metadata": {
    "id": "AYzeEVd3h6eV"
   },
   "source": [
    "<a name=\"5\"></a>\n",
    "## 5. Grid search of model parameters using cross-validation"
   ]
  },
  {
   "cell_type": "markdown",
   "metadata": {
    "id": "o5IiTxmYh6eV"
   },
   "source": [
    "<a name=\"5-1\"></a>\n",
    "### 5.1. GridSearchCV\n",
    "\n",
    "[GridSearchCV](https://scikit-learn.org/stable/modules/generated/sklearn.model_selection.GridSearchCV.html) provides exhaustive search over specified parameter values for an estimator.\n",
    "\n",
    "[ParameterGrid](https://scikit-learn.org/stable/modules/generated/sklearn.model_selection.ParameterGrid.html) returns a grid of parameters with a discrete number of values for each."
   ]
  },
  {
   "cell_type": "code",
   "metadata": {
    "id": "EoFTZIu4h6eV",
    "colab": {
     "base_uri": "https://localhost:8080/"
    },
    "outputId": "88721220-6a0d-4b8c-be8f-55cff0c297e1"
   },
   "source": [
    "from sklearn.model_selection import GridSearchCV, ParameterGrid\n",
    "\n",
    "# Select features\n",
    "selected_features = [\"Sex\", \"Pclass\", \"Age\"]\n",
    "X = train[selected_features]\n",
    "y = train[\"Survived\"]\n",
    "\n",
    "# Split the data\n",
    "X_train, X_dev, y_train, y_dev = train_test_split(X, y, test_size=0.3, random_state=42)\n",
    "\n",
    "# Instantiate a model\n",
    "model = LogisticRegression(solver='liblinear')\n",
    "\n",
    "# Set a parameters grid\n",
    "params = {'C': np.linspace(0.1, 2, 20),    # notice np.linspace()\n",
    "          'max_iter': [50, 100, 150, 200],\n",
    "          'penalty': ('l1', 'l2')\n",
    "         }\n",
    "\n",
    "# Display the current grid of parameters\n",
    "print(\"Parameters grid:\")\n",
    "print(*list(ParameterGrid(params))[:10], sep=\"\\n\")\n",
    "print(\"...........................................\")\n",
    "\n",
    "# Set a GridSearch model\n",
    "grid_model = GridSearchCV(model, params, cv=N_SPLITS)  # cv: For integer/None inputs, if the estimator is a classifier\n",
    "                                                       #     and y is either binary or multiclass, StratifiedKFold is used.\n",
    "                                                       #     In all other cases, KFold is used.\n",
    "# Train the GridSearch model\n",
    "grid_model.fit(X_train, y_train)\n",
    "\n",
    "# Get the best estimator\n",
    "model = grid_model.best_estimator_ \n",
    "\n",
    "# Display the best estimator, score and parameters\n",
    "print(\"Best estimator:\")\n",
    "print(model)\n",
    "print()\n",
    "print(\"Mean cross-validated score (of the best estimator): {:.3f}\".format(grid_model.best_score_))\n",
    "print()\n",
    "print(\"Best parameters: {}\".format(grid_model.best_params_))\n",
    "print()\n",
    "\n",
    "# Obtain and display test error\n",
    "\n",
    "y_dev_pred = grid_model.predict(X_dev)\n",
    "print(\"Dev accuracy: {:.3f}\".format(accuracy_score(y_dev, y_dev_pred)))"
   ],
   "execution_count": null,
   "outputs": [
    {
     "output_type": "stream",
     "name": "stdout",
     "text": [
      "Parameters grid:\n",
      "{'C': 0.1, 'max_iter': 50, 'penalty': 'l1'}\n",
      "{'C': 0.1, 'max_iter': 50, 'penalty': 'l2'}\n",
      "{'C': 0.1, 'max_iter': 100, 'penalty': 'l1'}\n",
      "{'C': 0.1, 'max_iter': 100, 'penalty': 'l2'}\n",
      "{'C': 0.1, 'max_iter': 150, 'penalty': 'l1'}\n",
      "{'C': 0.1, 'max_iter': 150, 'penalty': 'l2'}\n",
      "{'C': 0.1, 'max_iter': 200, 'penalty': 'l1'}\n",
      "{'C': 0.1, 'max_iter': 200, 'penalty': 'l2'}\n",
      "{'C': 0.2, 'max_iter': 50, 'penalty': 'l1'}\n",
      "{'C': 0.2, 'max_iter': 50, 'penalty': 'l2'}\n",
      "...........................................\n",
      "Best estimator:\n",
      "LogisticRegression(C=0.7, max_iter=50, penalty='l1', solver='liblinear')\n",
      "\n",
      "Mean cross-validated score (of the best estimator): 0.795\n",
      "\n",
      "Best parameters: {'C': 0.7, 'max_iter': 50, 'penalty': 'l1'}\n",
      "\n",
      "Dev accuracy: 0.806\n"
     ]
    }
   ]
  },
  {
   "cell_type": "markdown",
   "metadata": {
    "id": "ESX6mSR7h6eW"
   },
   "source": [
    "<a name=\"5-2\"></a>\n",
    "### 5.2. Create a submission file for the Titanic Kaggle Challenge"
   ]
  },
  {
   "cell_type": "code",
   "metadata": {
    "id": "poFwHVr3h6eW",
    "colab": {
     "base_uri": "https://localhost:8080/",
     "height": 205
    },
    "outputId": "1dae42c0-5912-4a0e-a168-0120a6d10b46"
   },
   "source": [
    "# Make a prediction\n",
    "X_test = test[selected_features]\n",
    "y_test_pred = grid_model.predict(X_test)\n",
    "\n",
    "# Create a submission file\n",
    "submission = pd.DataFrame({\"PassengerId\": test[\"PassengerId\"], \"Survived\": y_test_pred})\n",
    "submission.to_csv('submission.csv', index=False)\n",
    "submission.head()"
   ],
   "execution_count": null,
   "outputs": [
    {
     "output_type": "execute_result",
     "data": {
      "text/html": [
       "<div>\n",
       "<style scoped>\n",
       "    .dataframe tbody tr th:only-of-type {\n",
       "        vertical-align: middle;\n",
       "    }\n",
       "\n",
       "    .dataframe tbody tr th {\n",
       "        vertical-align: top;\n",
       "    }\n",
       "\n",
       "    .dataframe thead th {\n",
       "        text-align: right;\n",
       "    }\n",
       "</style>\n",
       "<table border=\"1\" class=\"dataframe\">\n",
       "  <thead>\n",
       "    <tr style=\"text-align: right;\">\n",
       "      <th></th>\n",
       "      <th>PassengerId</th>\n",
       "      <th>Survived</th>\n",
       "    </tr>\n",
       "  </thead>\n",
       "  <tbody>\n",
       "    <tr>\n",
       "      <th>0</th>\n",
       "      <td>892</td>\n",
       "      <td>0</td>\n",
       "    </tr>\n",
       "    <tr>\n",
       "      <th>1</th>\n",
       "      <td>893</td>\n",
       "      <td>0</td>\n",
       "    </tr>\n",
       "    <tr>\n",
       "      <th>2</th>\n",
       "      <td>894</td>\n",
       "      <td>0</td>\n",
       "    </tr>\n",
       "    <tr>\n",
       "      <th>3</th>\n",
       "      <td>895</td>\n",
       "      <td>0</td>\n",
       "    </tr>\n",
       "    <tr>\n",
       "      <th>4</th>\n",
       "      <td>896</td>\n",
       "      <td>1</td>\n",
       "    </tr>\n",
       "  </tbody>\n",
       "</table>\n",
       "</div>"
      ],
      "text/plain": [
       "   PassengerId  Survived\n",
       "0          892         0\n",
       "1          893         0\n",
       "2          894         0\n",
       "3          895         0\n",
       "4          896         1"
      ]
     },
     "metadata": {},
     "execution_count": 13
    }
   ]
  },
  {
   "cell_type": "markdown",
   "metadata": {
    "id": "eF9jo9obh6eX"
   },
   "source": [
    "<a name=\"6\"></a>\n",
    "## 6. Other cross-validators"
   ]
  },
  {
   "cell_type": "markdown",
   "metadata": {
    "id": "4ijQXfD2h6eX"
   },
   "source": [
    "<a name=\"6-1\"></a>\n",
    "### 6.1. Repeated K-fold cross-validation\n",
    "\n",
    "[RepeatedKFold](https://scikit-learn.org/stable/modules/generated/sklearn.model_selection.RepeatedKFold.html) repeats K-Fold `n` times. It can be used when one requires to run KFold `n` times, producing different splits in each repetition."
   ]
  },
  {
   "cell_type": "markdown",
   "metadata": {
    "id": "k57ldniBh6eX"
   },
   "source": [
    "<a name=\"6-2\"></a>\n",
    "### 6.2. Leave one out cross-validation (LOOCV)\n",
    "\n",
    "[LeaveOneOut](https://scikit-learn.org/stable/modules/generated/sklearn.model_selection.LeaveOneOut.html) is a simple cross-validation. Each learning set is created by taking all the samples except one, the test set being the sample left out. Thus, for `n` samples, we have `n` different training sets and `n` different tests set."
   ]
  },
  {
   "cell_type": "markdown",
   "metadata": {
    "id": "Qow3VcR-h6eX"
   },
   "source": [
    "<a name=\"6-3\"></a>\n",
    "### 6.3. Random permutations cross-validation a.k.a. shuffle & split\n",
    "\n",
    "The [ShuffleSplit](https://scikit-learn.org/stable/modules/generated/sklearn.model_selection.ShuffleSplit.html) iterator will generate a user defined number of independent train / test dataset splits. Samples are first shuffled and then split into a pair of train and test sets. Note that it is not affected by classes or groups.\n",
    "\n",
    "![](https://scikit-learn.org/stable/_images/sphx_glr_plot_cv_indices_0061.png)"
   ]
  },
  {
   "cell_type": "markdown",
   "metadata": {
    "id": "FUJcs7Mth6eY"
   },
   "source": [
    "<a name=\"6-4\"></a>\n",
    "### 6.4. Group K-Fold cross-validation\n",
    "\n",
    "In case we have groups of dependent samples, for example, medical data collected from multiple patients with multiple samples taken from each patient, better to use [GroupKFold](https://scikit-learn.org/stable/modules/generated/sklearn.model_selection.GroupKFold.html). In this case we would like to know if a model trained on a particular set of groups generalizes well to the unseen groups. To measure this, we need to ensure that all the samples in the validation fold come from groups that are not represented at all in the paired training fold.\n",
    "\n",
    "![](https://scikit-learn.org/stable/_images/sphx_glr_plot_cv_indices_0051.png)"
   ]
  },
  {
   "cell_type": "markdown",
   "metadata": {
    "id": "ocV0M4Dgh6eY"
   },
   "source": [
    "<a name=\"7\"></a>\n",
    "## 7. YOUR TURN"
   ]
  },
  {
   "cell_type": "markdown",
   "metadata": {
    "id": "0emCkYJWh6eY"
   },
   "source": [
    "<a name=\"7-1\"></a>\n",
    "### 7.1. One-set approach (using `train` set only)\n",
    "\n",
    "1. Using all the `train` set, select features and train the logistic regression model (try to get the highest `train` accuracy).\n",
    "\n",
    "2. Create and submit your predictions for the [Titanic Kaggle Challenge](https://www.kaggle.com/c/titanic)."
   ]
  },
  {
   "cell_type": "code",
   "metadata": {
    "inputHidden": false,
    "jupyter": {
     "outputs_hidden": false
    },
    "outputHidden": false,
    "id": "hv7AOTGJh6eY"
   },
   "source": [
    "# Create a model using only the train set"
   ],
   "execution_count": null,
   "outputs": []
  },
  {
   "cell_type": "code",
   "metadata": {
    "id": "brTwNbdIU9sw"
   },
   "source": [
    "from sklearn.pipeline import Pipeline\n",
    "from sklearn.impute import SimpleImputer\n",
    "from sklearn.compose import ColumnTransformer\n",
    "from sklearn.preprocessing import StandardScaler"
   ],
   "execution_count": null,
   "outputs": []
  },
  {
   "cell_type": "code",
   "metadata": {
    "id": "iNNH-vejT0H8"
   },
   "source": [
    "X = train.copy()\n",
    "y = train.Survived"
   ],
   "execution_count": null,
   "outputs": []
  },
  {
   "cell_type": "code",
   "metadata": {
    "id": "A-BiTT4tdp9g"
   },
   "source": [
    "X['TravelAlone'] = np.where((X[\"SibSp\"] + X[\"Parch\"]) > 0, 0, 1)\n",
    "X['IsMinor'] = np.where(X['Age'] <= 16, 1, 0)"
   ],
   "execution_count": null,
   "outputs": []
  },
  {
   "cell_type": "code",
   "metadata": {
    "id": "09pbyD5hecPW"
   },
   "source": [
    "test['TravelAlone'] = np.where((test[\"SibSp\"] + test[\"Parch\"]) > 0, 0, 1)\n",
    "test['IsMinor'] = np.where(test['Age'] <= 16, 1, 0)"
   ],
   "execution_count": null,
   "outputs": []
  },
  {
   "cell_type": "code",
   "metadata": {
    "id": "mJYLxmKzdwSY"
   },
   "source": [
    "cols = [\"Age\",\"Fare\",\"TravelAlone\",\"Pclass\", \"Embarked\", \"Sex\",\"IsMinor\"] "
   ],
   "execution_count": null,
   "outputs": []
  },
  {
   "cell_type": "code",
   "metadata": {
    "id": "Bv0Ki2axT0NK"
   },
   "source": [
    "# # Preprocessing for numerical data\n",
    "numerical_transformer =  Pipeline(steps=[\n",
    "    ('norm', StandardScaler()),\n",
    "    ])"
   ],
   "execution_count": null,
   "outputs": []
  },
  {
   "cell_type": "code",
   "metadata": {
    "id": "_Tzv6Ww0T0Sn"
   },
   "source": [
    "preprocessor = ColumnTransformer(\n",
    "    transformers=[\n",
    "        ('num', numerical_transformer, cols),\n",
    "    ])"
   ],
   "execution_count": null,
   "outputs": []
  },
  {
   "cell_type": "code",
   "metadata": {
    "id": "bP-xeAWLYFvu"
   },
   "source": [
    "model = LogisticRegression(solver='liblinear')"
   ],
   "execution_count": null,
   "outputs": []
  },
  {
   "cell_type": "code",
   "metadata": {
    "id": "gUuReQMMWAap"
   },
   "source": [
    "# Bundle preprocessing and modeling code in a pipeline\n",
    "clf = Pipeline(steps=[('preprocessor', preprocessor),\n",
    "                      ('model', model)\n",
    "                     ])"
   ],
   "execution_count": null,
   "outputs": []
  },
  {
   "cell_type": "code",
   "metadata": {
    "colab": {
     "base_uri": "https://localhost:8080/"
    },
    "id": "sgdi4jTFT0UX",
    "outputId": "62d00d90-499d-4387-c482-4dc0d124d546"
   },
   "source": [
    "clf.fit(X, y)"
   ],
   "execution_count": null,
   "outputs": [
    {
     "output_type": "execute_result",
     "data": {
      "text/plain": [
       "Pipeline(steps=[('preprocessor',\n",
       "                 ColumnTransformer(transformers=[('num',\n",
       "                                                  Pipeline(steps=[('norm',\n",
       "                                                                   StandardScaler())]),\n",
       "                                                  ['Age', 'Fare', 'TravelAlone',\n",
       "                                                   'Pclass', 'Embarked', 'Sex',\n",
       "                                                   'IsMinor'])])),\n",
       "                ('model', LogisticRegression(solver='liblinear'))])"
      ]
     },
     "metadata": {},
     "execution_count": 24
    }
   ]
  },
  {
   "cell_type": "code",
   "metadata": {
    "id": "_KJe1q0vhoYs",
    "colab": {
     "base_uri": "https://localhost:8080/"
    },
    "outputId": "e98b3e74-b1af-4670-987c-bdea865dbca6"
   },
   "source": [
    "accuracy_score(y, clf.predict(X))"
   ],
   "execution_count": null,
   "outputs": [
    {
     "output_type": "execute_result",
     "data": {
      "text/plain": [
       "0.8013468013468014"
      ]
     },
     "metadata": {},
     "execution_count": 25
    }
   ]
  },
  {
   "cell_type": "code",
   "metadata": {
    "id": "OcMQylG90LbB"
   },
   "source": [
    "def save(model, name):\n",
    "  pd.DataFrame({\"PassengerId\" : test.PassengerId,\n",
    "             \"Survived\" : pd.Series(model.predict(test))}).to_csv(f\"{name}.csv\", index=False)"
   ],
   "execution_count": null,
   "outputs": []
  },
  {
   "cell_type": "code",
   "metadata": {
    "id": "0HDQu6s71iCN"
   },
   "source": [
    "save(clf, \"71\")"
   ],
   "execution_count": null,
   "outputs": []
  },
  {
   "cell_type": "markdown",
   "metadata": {
    "id": "rgInvsfx2WFy"
   },
   "source": [
    "![image.png](data:image/png;base64,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)"
   ]
  },
  {
   "cell_type": "markdown",
   "metadata": {
    "id": "p8DynxvSh6eY"
   },
   "source": [
    "<a name=\"7-2\"></a>\n",
    "### 7.2. One-set approach + GridSearchCV\n",
    "\n",
    "1. Using all the `train` set and [GridSearchCV](https://scikit-learn.org/stable/modules/generated/sklearn.model_selection.GridSearchCV.html), select features and train the logistic regression model (try to get the highest mean cross-validated `train` accuracy). Tip: do not use `cv` for [GridSearchCV](https://scikit-learn.org/stable/modules/generated/sklearn.model_selection.GridSearchCV.html) higher than 5.\n",
    "\n",
    "2. Submit your predictions for the [Titanic Kaggle Challenge](https://www.kaggle.com/c/titanic)."
   ]
  },
  {
   "cell_type": "code",
   "metadata": {
    "colab": {
     "base_uri": "https://localhost:8080/"
    },
    "id": "UKWlqwcvt6lJ",
    "outputId": "96c86c92-0984-4770-8b47-fe1c3be7a527"
   },
   "source": [
    "# Create a model using only the train set and GridSearchCV\n",
    "clf.get_params().keys()"
   ],
   "execution_count": null,
   "outputs": [
    {
     "output_type": "execute_result",
     "data": {
      "text/plain": [
       "dict_keys(['memory', 'steps', 'verbose', 'preprocessor', 'model', 'preprocessor__n_jobs', 'preprocessor__remainder', 'preprocessor__sparse_threshold', 'preprocessor__transformer_weights', 'preprocessor__transformers', 'preprocessor__verbose', 'preprocessor__verbose_feature_names_out', 'preprocessor__num', 'preprocessor__num__memory', 'preprocessor__num__steps', 'preprocessor__num__verbose', 'preprocessor__num__norm', 'preprocessor__num__norm__copy', 'preprocessor__num__norm__with_mean', 'preprocessor__num__norm__with_std', 'model__C', 'model__class_weight', 'model__dual', 'model__fit_intercept', 'model__intercept_scaling', 'model__l1_ratio', 'model__max_iter', 'model__multi_class', 'model__n_jobs', 'model__penalty', 'model__random_state', 'model__solver', 'model__tol', 'model__verbose', 'model__warm_start'])"
      ]
     },
     "metadata": {},
     "execution_count": 28
    }
   ]
  },
  {
   "cell_type": "code",
   "metadata": {
    "colab": {
     "base_uri": "https://localhost:8080/"
    },
    "id": "lk5cdl5ap9kX",
    "outputId": "568ecaeb-2829-446f-80b1-477e08f093f2"
   },
   "source": [
    "params = {'model__C': np.linspace(0.1, 5, 20),    # notice np.linspace()\n",
    "          'model__max_iter': [50, 100, 150, 200],\n",
    "          'model__penalty': ('l1', 'l2')\n",
    "         }\n",
    "\n",
    "grid_search = GridSearchCV(clf, params, cv=5, scoring='accuracy')\n",
    "grid_search.fit(X, y)"
   ],
   "execution_count": null,
   "outputs": [
    {
     "output_type": "execute_result",
     "data": {
      "text/plain": [
       "GridSearchCV(cv=5,\n",
       "             estimator=Pipeline(steps=[('preprocessor',\n",
       "                                        ColumnTransformer(transformers=[('num',\n",
       "                                                                         Pipeline(steps=[('norm',\n",
       "                                                                                          StandardScaler())]),\n",
       "                                                                         ['Age',\n",
       "                                                                          'Fare',\n",
       "                                                                          'TravelAlone',\n",
       "                                                                          'Pclass',\n",
       "                                                                          'Embarked',\n",
       "                                                                          'Sex',\n",
       "                                                                          'IsMinor'])])),\n",
       "                                       ('model',\n",
       "                                        LogisticRegression(solver='liblinear'))]),\n",
       "             param_grid={'model__C': array([0.1       , 0.35789474, 0.61578947, 0.87368421, 1.13157895,\n",
       "       1.38947368, 1.64736842, 1.90526316, 2.16315789, 2.42105263,\n",
       "       2.67894737, 2.93684211, 3.19473684, 3.45263158, 3.71052632,\n",
       "       3.96842105, 4.22631579, 4.48421053, 4.74210526, 5.        ]),\n",
       "                         'model__max_iter': [50, 100, 150, 200],\n",
       "                         'model__penalty': ('l1', 'l2')},\n",
       "             scoring='accuracy')"
      ]
     },
     "metadata": {},
     "execution_count": 29
    }
   ]
  },
  {
   "cell_type": "code",
   "metadata": {
    "id": "6ho5YPfktgOL"
   },
   "source": [
    "model_gs_best = grid_search.best_estimator_ "
   ],
   "execution_count": null,
   "outputs": []
  },
  {
   "cell_type": "code",
   "metadata": {
    "colab": {
     "base_uri": "https://localhost:8080/"
    },
    "id": "OvB_vxbekhOk",
    "outputId": "8fae38cd-a4ae-48c5-b80c-f923b8152a89"
   },
   "source": [
    "print(\"Mean cross-validated score (of the best estimator): {:.3f}\".format(grid_search.best_score_))\n",
    "print()\n",
    "print(\"Best parameters: {}\".format(grid_search.best_params_))"
   ],
   "execution_count": null,
   "outputs": [
    {
     "output_type": "stream",
     "name": "stdout",
     "text": [
      "Mean cross-validated score (of the best estimator): 0.792\n",
      "\n",
      "Best parameters: {'model__C': 0.1, 'model__max_iter': 50, 'model__penalty': 'l2'}\n"
     ]
    }
   ]
  },
  {
   "cell_type": "code",
   "metadata": {
    "colab": {
     "base_uri": "https://localhost:8080/"
    },
    "id": "c_3Hl2yezbAh",
    "outputId": "f6631ff4-be24-4bad-97c1-76ce24617390"
   },
   "source": [
    "accuracy_score(y, model_gs_best.predict(X))"
   ],
   "execution_count": null,
   "outputs": [
    {
     "output_type": "execute_result",
     "data": {
      "text/plain": [
       "0.7912457912457912"
      ]
     },
     "metadata": {},
     "execution_count": 32
    }
   ]
  },
  {
   "cell_type": "code",
   "metadata": {
    "id": "o4tqHo7Y2bK4"
   },
   "source": [
    "save(model_gs_best, \"72\")"
   ],
   "execution_count": null,
   "outputs": []
  },
  {
   "cell_type": "markdown",
   "metadata": {
    "id": "BphZI7Cf2eQW"
   },
   "source": [
    "![image.png](data:image/png;base64,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)"
   ]
  },
  {
   "cell_type": "markdown",
   "metadata": {
    "id": "MJisQMiph6eZ"
   },
   "source": [
    "<a name=\"7-3\"></a>\n",
    "### 7.3. Two-sets approach (using `train/dev` split)\n",
    "\n",
    "1. Split `train` into training and development sets—`train/dev`—in the ratio of 70/30 %.\n",
    "\n",
    "2. Using `train` set and [GridSearchCV](https://scikit-learn.org/stable/modules/generated/sklearn.model_selection.GridSearchCV.html), select features and train the logistic regression model (try to get the highest mean cross-validated `train` accuracy).\n",
    "\n",
    "3. Check the `dev` accuracy for the synthesized model. It should be close to the mean cross-validated `train` accuracy (if it's not, go back to step 2 and redo the model, e.g., select other features).\n",
    "\n",
    "4. Submit your predictions for the [Titanic Kaggle Challenge](https://www.kaggle.com/c/titanic)."
   ]
  },
  {
   "cell_type": "code",
   "metadata": {
    "id": "QY5B6HwRh6eZ"
   },
   "source": [
    "# Create a model using train/dev split and GridSearchCV"
   ],
   "execution_count": null,
   "outputs": []
  },
  {
   "cell_type": "code",
   "metadata": {
    "id": "QR93-mW-MLIx"
   },
   "source": [
    "X_train, X_dev, y_train, y_dev = train_test_split(X, y, test_size=.3)"
   ],
   "execution_count": null,
   "outputs": []
  },
  {
   "cell_type": "code",
   "metadata": {
    "id": "JHELCuQyMLLH",
    "colab": {
     "base_uri": "https://localhost:8080/"
    },
    "outputId": "cca63d41-8f4d-4070-c06b-d937f65d47c8"
   },
   "source": [
    "grid_search = GridSearchCV(clf, params, cv=5, scoring='accuracy')\n",
    "grid_search.fit(X_train, y_train)"
   ],
   "execution_count": null,
   "outputs": [
    {
     "output_type": "execute_result",
     "data": {
      "text/plain": [
       "GridSearchCV(cv=5,\n",
       "             estimator=Pipeline(steps=[('preprocessor',\n",
       "                                        ColumnTransformer(transformers=[('num',\n",
       "                                                                         Pipeline(steps=[('norm',\n",
       "                                                                                          StandardScaler())]),\n",
       "                                                                         ['Age',\n",
       "                                                                          'Fare',\n",
       "                                                                          'TravelAlone',\n",
       "                                                                          'Pclass',\n",
       "                                                                          'Embarked',\n",
       "                                                                          'Sex',\n",
       "                                                                          'IsMinor'])])),\n",
       "                                       ('model',\n",
       "                                        LogisticRegression(solver='liblinear'))]),\n",
       "             param_grid={'model__C': array([0.1       , 0.35789474, 0.61578947, 0.87368421, 1.13157895,\n",
       "       1.38947368, 1.64736842, 1.90526316, 2.16315789, 2.42105263,\n",
       "       2.67894737, 2.93684211, 3.19473684, 3.45263158, 3.71052632,\n",
       "       3.96842105, 4.22631579, 4.48421053, 4.74210526, 5.        ]),\n",
       "                         'model__max_iter': [50, 100, 150, 200],\n",
       "                         'model__penalty': ('l1', 'l2')},\n",
       "             scoring='accuracy')"
      ]
     },
     "metadata": {},
     "execution_count": 36
    }
   ]
  },
  {
   "cell_type": "code",
   "metadata": {
    "colab": {
     "base_uri": "https://localhost:8080/"
    },
    "id": "mA-WaN1eQWYu",
    "outputId": "4bd2d389-119c-481a-d997-a44f9797582c"
   },
   "source": [
    "model_gs_best = grid_search.best_estimator_ \n",
    "model_gs_best"
   ],
   "execution_count": null,
   "outputs": [
    {
     "output_type": "execute_result",
     "data": {
      "text/plain": [
       "Pipeline(steps=[('preprocessor',\n",
       "                 ColumnTransformer(transformers=[('num',\n",
       "                                                  Pipeline(steps=[('norm',\n",
       "                                                                   StandardScaler())]),\n",
       "                                                  ['Age', 'Fare', 'TravelAlone',\n",
       "                                                   'Pclass', 'Embarked', 'Sex',\n",
       "                                                   'IsMinor'])])),\n",
       "                ('model',\n",
       "                 LogisticRegression(C=0.35789473684210527, max_iter=50,\n",
       "                                    solver='liblinear'))])"
      ]
     },
     "metadata": {},
     "execution_count": 37
    }
   ]
  },
  {
   "cell_type": "code",
   "metadata": {
    "colab": {
     "base_uri": "https://localhost:8080/"
    },
    "id": "W3sDylJqbPA0",
    "outputId": "63df14f6-acd4-4f4e-ee24-07f61cf766e1"
   },
   "source": [
    "print(\"Mean cross-validated score (of the best estimator): {:.3f}\".format(grid_search.best_score_))"
   ],
   "execution_count": null,
   "outputs": [
    {
     "output_type": "stream",
     "name": "stdout",
     "text": [
      "Mean cross-validated score (of the best estimator): 0.799\n"
     ]
    }
   ]
  },
  {
   "cell_type": "code",
   "metadata": {
    "colab": {
     "base_uri": "https://localhost:8080/"
    },
    "id": "pw2kqJNocPmQ",
    "outputId": "d8c174ae-d6ac-4e3a-afe8-2877d42df0e1"
   },
   "source": [
    "accuracy_score(y_train, model_gs_best.predict(X_train))"
   ],
   "execution_count": null,
   "outputs": [
    {
     "output_type": "execute_result",
     "data": {
      "text/plain": [
       "0.8089887640449438"
      ]
     },
     "metadata": {},
     "execution_count": 39
    }
   ]
  },
  {
   "cell_type": "code",
   "metadata": {
    "colab": {
     "base_uri": "https://localhost:8080/"
    },
    "id": "8jD3-mu1bPDm",
    "outputId": "c6f9c8db-b6e6-409c-9a93-c43ce3e3cde5"
   },
   "source": [
    "accuracy_score(y_dev, model_gs_best.predict(X_dev))"
   ],
   "execution_count": null,
   "outputs": [
    {
     "output_type": "execute_result",
     "data": {
      "text/plain": [
       "0.7686567164179104"
      ]
     },
     "metadata": {},
     "execution_count": 40
    }
   ]
  },
  {
   "cell_type": "code",
   "metadata": {
    "id": "UeKY0FoQ2qo1"
   },
   "source": [
    "save(model_gs_best, \"73\")"
   ],
   "execution_count": null,
   "outputs": []
  },
  {
   "cell_type": "markdown",
   "metadata": {
    "id": "_2KhBKV-220g"
   },
   "source": [
    "![image.png](data:image/png;base64,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)"
   ]
  },
  {
   "cell_type": "markdown",
   "metadata": {
    "id": "dOad_ACNh6eZ"
   },
   "source": [
    "<a name=\"7-4\"></a>\n",
    "### 7.4. Three-sets approach (`train/dev/test` split)\n",
    "\n",
    "1. Split `train` into training, development and test sets—`train/dev/test`—in the ratio of 60/20/20 %.\n",
    "\n",
    "2. Using `train` set and [GridSearchCV](https://scikit-learn.org/stable/modules/generated/sklearn.model_selection.GridSearchCV.html), select features and train the logistic regression model (try to get the highest mean cross-validated `train` accuracy).\n",
    "\n",
    "3. Check the `dev` accuracy for the synthesized model. It should be close to the mean cross-validated `train` accuracy  (if it's not, go back to step 2 and redo the model, e.g., select other features).\n",
    "\n",
    "4. Check the `test` accuracy for the synthesized model. It should be close to the `dev` accuracy (if it's not, go back to step 2 and redo the model).\n",
    "\n",
    "5. Submit your predictions for the [Titanic Kaggle Challenge](https://www.kaggle.com/c/titanic)."
   ]
  },
  {
   "cell_type": "code",
   "metadata": {
    "id": "ljVF5NDxh6ea"
   },
   "source": [
    "# Create a model using train/dev/test split and GridSearchCV"
   ],
   "execution_count": null,
   "outputs": []
  },
  {
   "cell_type": "code",
   "metadata": {
    "id": "pzxVvQoeXXWK"
   },
   "source": [
    " X_train, X_test, y_train, y_test = train_test_split(X, y, test_size=0.2, random_state=1)\n",
    "\n",
    " X_train, X_val, y_train, y_val = train_test_split(X_train, y_train, test_size=0.25, random_state=1) # 0.25 x 0.8 = 0.2"
   ],
   "execution_count": null,
   "outputs": []
  },
  {
   "cell_type": "code",
   "metadata": {
    "colab": {
     "base_uri": "https://localhost:8080/"
    },
    "id": "Drenc8PaXXZm",
    "outputId": "5e8a2f00-4dcb-4792-a4c6-b5812e81d33a"
   },
   "source": [
    "grid_search = GridSearchCV(clf, params, cv=5, scoring='accuracy')\n",
    "grid_search.fit(X_train, y_train)"
   ],
   "execution_count": null,
   "outputs": [
    {
     "output_type": "execute_result",
     "data": {
      "text/plain": [
       "GridSearchCV(cv=5,\n",
       "             estimator=Pipeline(steps=[('preprocessor',\n",
       "                                        ColumnTransformer(transformers=[('num',\n",
       "                                                                         Pipeline(steps=[('norm',\n",
       "                                                                                          StandardScaler())]),\n",
       "                                                                         ['Age',\n",
       "                                                                          'Fare',\n",
       "                                                                          'TravelAlone',\n",
       "                                                                          'Pclass',\n",
       "                                                                          'Embarked',\n",
       "                                                                          'Sex',\n",
       "                                                                          'IsMinor'])])),\n",
       "                                       ('model',\n",
       "                                        LogisticRegression(solver='liblinear'))]),\n",
       "             param_grid={'model__C': array([0.1       , 0.35789474, 0.61578947, 0.87368421, 1.13157895,\n",
       "       1.38947368, 1.64736842, 1.90526316, 2.16315789, 2.42105263,\n",
       "       2.67894737, 2.93684211, 3.19473684, 3.45263158, 3.71052632,\n",
       "       3.96842105, 4.22631579, 4.48421053, 4.74210526, 5.        ]),\n",
       "                         'model__max_iter': [50, 100, 150, 200],\n",
       "                         'model__penalty': ('l1', 'l2')},\n",
       "             scoring='accuracy')"
      ]
     },
     "metadata": {},
     "execution_count": 44
    }
   ]
  },
  {
   "cell_type": "code",
   "metadata": {
    "colab": {
     "base_uri": "https://localhost:8080/"
    },
    "id": "ABfjwcNvXXcG",
    "outputId": "86bb2008-9c88-449f-f682-7a0e7e363571"
   },
   "source": [
    "model_gs_best = grid_search.best_estimator_ \n",
    "model_gs_best"
   ],
   "execution_count": null,
   "outputs": [
    {
     "output_type": "execute_result",
     "data": {
      "text/plain": [
       "Pipeline(steps=[('preprocessor',\n",
       "                 ColumnTransformer(transformers=[('num',\n",
       "                                                  Pipeline(steps=[('norm',\n",
       "                                                                   StandardScaler())]),\n",
       "                                                  ['Age', 'Fare', 'TravelAlone',\n",
       "                                                   'Pclass', 'Embarked', 'Sex',\n",
       "                                                   'IsMinor'])])),\n",
       "                ('model',\n",
       "                 LogisticRegression(C=0.1, max_iter=50, penalty='l1',\n",
       "                                    solver='liblinear'))])"
      ]
     },
     "metadata": {},
     "execution_count": 45
    }
   ]
  },
  {
   "cell_type": "code",
   "metadata": {
    "colab": {
     "base_uri": "https://localhost:8080/"
    },
    "id": "9UMOpm6LXRMw",
    "outputId": "44b56f29-afca-42bd-c8f1-75854357fe28"
   },
   "source": [
    "print(\"Mean cross-validated score (of the best estimator): {:.3f}\".format(grid_search.best_score_))"
   ],
   "execution_count": null,
   "outputs": [
    {
     "output_type": "stream",
     "name": "stdout",
     "text": [
      "Mean cross-validated score (of the best estimator): 0.803\n"
     ]
    }
   ]
  },
  {
   "cell_type": "code",
   "metadata": {
    "colab": {
     "base_uri": "https://localhost:8080/"
    },
    "id": "BoFJyvNvfMN5",
    "outputId": "c1fac0c1-37af-436e-a8f1-3d94ad1c7f1e"
   },
   "source": [
    "accuracy_score(y_train, model_gs_best.predict(X_train))"
   ],
   "execution_count": null,
   "outputs": [
    {
     "output_type": "execute_result",
     "data": {
      "text/plain": [
       "0.8033707865168539"
      ]
     },
     "metadata": {},
     "execution_count": 47
    }
   ]
  },
  {
   "cell_type": "code",
   "metadata": {
    "colab": {
     "base_uri": "https://localhost:8080/"
    },
    "id": "J3hLAH6lfMP9",
    "outputId": "d951d430-a047-4d2d-d29e-e5535b57ae64"
   },
   "source": [
    "accuracy_score(y_dev, model_gs_best.predict(X_dev))"
   ],
   "execution_count": null,
   "outputs": [
    {
     "output_type": "execute_result",
     "data": {
      "text/plain": [
       "0.7761194029850746"
      ]
     },
     "metadata": {},
     "execution_count": 48
    }
   ]
  },
  {
   "cell_type": "code",
   "metadata": {
    "colab": {
     "base_uri": "https://localhost:8080/"
    },
    "id": "dO-ZwM1lfMSw",
    "outputId": "108937c9-73c2-44da-bb8c-6355e6111021"
   },
   "source": [
    "accuracy_score(y_test, model_gs_best.predict(X_test))"
   ],
   "execution_count": null,
   "outputs": [
    {
     "output_type": "execute_result",
     "data": {
      "text/plain": [
       "0.776536312849162"
      ]
     },
     "metadata": {},
     "execution_count": 49
    }
   ]
  },
  {
   "cell_type": "code",
   "metadata": {
    "id": "d9RiZGZg26ZH"
   },
   "source": [
    "save(model_gs_best, \"74\")"
   ],
   "execution_count": null,
   "outputs": []
  },
  {
   "cell_type": "markdown",
   "metadata": {
    "id": "JK2Vp3qC3GIQ"
   },
   "source": [
    "![image.png](data:image/png;base64,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)"
   ]
  },
  {
   "cell_type": "markdown",
   "metadata": {
    "id": "78dnXJoah6ea"
   },
   "source": [
    "<a name=\"7-5\"></a>\n",
    "### 7.5. Draw your conclusions\n",
    "\n",
    "Please note that although approach 6.4 is often the best one, it is not necessarily the best for this task. It largely depends on the amount of data and usefulness of the features for building a model (predicting a target parameter)."
   ]
  },
  {
   "cell_type": "markdown",
   "metadata": {
    "id": "cgix61G2c-IB"
   },
   "source": [
    "Дані завжди треба розділяти на дві або три частини:\n",
    "* train/test -  в такому випадку робити кросвалідацію на трейні, а тест використовувати для перевірки генералізації моделі\n",
    "* train/dev/test - в такому випадку навчати на трейні, підбирати гіперпараметри на dev, перевіряти генералізацію на тест\n"
   ]
  }
 ]
}